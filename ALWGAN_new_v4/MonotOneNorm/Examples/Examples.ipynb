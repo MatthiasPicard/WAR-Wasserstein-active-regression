{
 "cells": [
  {
   "cell_type": "code",
   "execution_count": 2,
   "metadata": {},
   "outputs": [],
   "source": [
    "import torch\n",
    "from matplotlib import pyplot as plt\n",
    "from tqdm.notebook import tqdm\n",
    "from monotonenorm import GroupSort, direct_norm, SigmaNet\n",
    "# pip install -e . in the directory with setup.py if you do not have monotonenorm installed\n",
    "torch.manual_seed(0)\n",
    "plt.style.use('mpl-config')"
   ]
  },
  {
   "cell_type": "markdown",
   "metadata": {},
   "source": [
    "We will make a simple toy regression model to fit the following 1D function $$f(x) = log(x) + \\epsilon(x)$$\n",
    "where $\\epsilon$ is a gaussian noise term whose variance is linearly increasing in x. \n",
    "In this toy model we will assume that we have good reason to believe that the function we are trying to fit is monotonic (despite non-monotnic behavior of the noise). For example, we are building a trigger algorithm to discriminate between signal and background events. Rarer events are more likely to be signal and thus we should employ a network which is monotonic in some \"rareness\" feature. Another example could be a hiring classifier where (all else equal) higher school grades should imply better chances of being hired. \n",
    "\n",
    "Now we will fit an unconstrained model and monotonic Lipschitz model."
   ]
  },
  {
   "cell_type": "code",
   "execution_count": 1,
   "metadata": {},
   "outputs": [
    {
     "ename": "NameError",
     "evalue": "name 'torch' is not defined",
     "output_type": "error",
     "traceback": [
      "\u001b[1;31m---------------------------------------------------------------------------\u001b[0m",
      "\u001b[1;31mNameError\u001b[0m                                 Traceback (most recent call last)",
      "\u001b[1;32m<ipython-input-1-1e3267b4b40b>\u001b[0m in \u001b[0;36m<module>\u001b[1;34m\u001b[0m\n\u001b[0;32m      3\u001b[0m \u001b[0mN\u001b[0m \u001b[1;33m=\u001b[0m \u001b[1;36m30\u001b[0m           \u001b[1;31m# Number of points\u001b[0m\u001b[1;33m\u001b[0m\u001b[1;33m\u001b[0m\u001b[0m\n\u001b[0;32m      4\u001b[0m \u001b[0mmax_range\u001b[0m \u001b[1;33m=\u001b[0m \u001b[1;36m50\u001b[0m   \u001b[1;31m# Maximum range of x\u001b[0m\u001b[1;33m\u001b[0m\u001b[1;33m\u001b[0m\u001b[0m\n\u001b[1;32m----> 5\u001b[1;33m \u001b[0mloss_func\u001b[0m \u001b[1;33m=\u001b[0m \u001b[0mtorch\u001b[0m\u001b[1;33m.\u001b[0m\u001b[0mnn\u001b[0m\u001b[1;33m.\u001b[0m\u001b[0mL1Loss\u001b[0m\u001b[1;33m(\u001b[0m\u001b[1;33m)\u001b[0m\u001b[1;33m\u001b[0m\u001b[1;33m\u001b[0m\u001b[0m\n\u001b[0m\u001b[0;32m      6\u001b[0m \u001b[1;33m\u001b[0m\u001b[0m\n\u001b[0;32m      7\u001b[0m \u001b[1;31m# simple toy data\u001b[0m\u001b[1;33m\u001b[0m\u001b[1;33m\u001b[0m\u001b[1;33m\u001b[0m\u001b[0m\n",
      "\u001b[1;31mNameError\u001b[0m: name 'torch' is not defined"
     ]
    }
   ],
   "source": [
    "# Config\n",
    "EPOCHS = 10000 \n",
    "N = 30           # Number of points \n",
    "max_range = 50   # Maximum range of x\n",
    "loss_func = torch.nn.L1Loss()\n",
    "\n",
    "# simple toy data\n",
    "x_train = torch.linspace(1, max_range, N).view(-1, 1)\n",
    "y_train = torch.log(x_train)\n",
    "# Adding linearly increasing noise\n",
    "noise = torch.randn(N).view(-1, 1) * torch.linspace(0.01, 0.3, N).view(-1, 1)\n",
    "y_train -= noise\n",
    "\n",
    "# Plot training data\n",
    "# plt.scatter(x_train.numpy(), y_train.numpy())\n",
    "# plt.show()\n",
    "class UnconstrainedModel(torch.nn.Module):\n",
    "    def __init__(self):\n",
    "        super().__init__()\n",
    "        self.model = torch.nn.Sequential(\n",
    "    torch.nn.Linear(1, 16),\n",
    "    torch.nn.LeakyReLU(),\n",
    "    torch.nn.Linear(16, 16),\n",
    "    torch.nn.LeakyReLU(),\n",
    "    torch.nn.Linear(16, 16),\n",
    "    torch.nn.LeakyReLU(),\n",
    "    torch.nn.Linear(16, 16),\n",
    "    torch.nn.LeakyReLU(),\n",
    "    torch.nn.Linear(16, 16),\n",
    "    torch.nn.LeakyReLU(),\n",
    "    torch.nn.Linear(16, 1),\n",
    ")\n",
    "    def forward(self, x):\n",
    "        return self.model(x)\n",
    "\n",
    "# Build a Lipschitz-1 network\n",
    "class RobustModel(torch.nn.Module):\n",
    "    def __init__(self):\n",
    "        super().__init__()\n",
    "        self.model = torch.nn.Sequential(\n",
    "            direct_norm(torch.nn.Linear(1, 16)),\n",
    "            GroupSort(8),\n",
    "            direct_norm(torch.nn.Linear(16, 16)),\n",
    "            GroupSort(8),\n",
    "            direct_norm(torch.nn.Linear(16, 16)),\n",
    "            GroupSort(8),\n",
    "            direct_norm(torch.nn.Linear(16, 16)),\n",
    "            GroupSort(8),\n",
    "            direct_norm(torch.nn.Linear(16, 16)),\n",
    "            GroupSort(8),\n",
    "            direct_norm(torch.nn.Linear(16, 1)),\n",
    "        )\n",
    "\n",
    "    def forward(self, x):\n",
    "        return self.model(x)\n",
    "\n",
    "model = UnconstrainedModel()\n",
    "monotonic_model = SigmaNet(RobustModel(), sigma=1.)\n",
    "\n",
    "optim = torch.optim.Adam(model.parameters(), lr=5e-3)\n",
    "optim_robust = torch.optim.Adam(monotonic_model.parameters(), lr=1e-3)\n",
    "\n",
    "# Train both models at the same time\n",
    "pbar = tqdm(range(EPOCHS))\n",
    "for i in pbar:\n",
    "    y = model(x_train)\n",
    "    y_robust = monotonic_model(x_train)\n",
    "    loss = loss_func(y, y_train)\n",
    "    loss_robust = loss_func(y_robust, y_train)\n",
    "    loss_robust.backward()\n",
    "    loss.backward()\n",
    "    optim.step()\n",
    "    optim_robust.step()\n",
    "    optim.zero_grad()\n",
    "    optim_robust.zero_grad()\n",
    "    pbar.set_description(\n",
    "        f\"epoch: {i} loss: {loss.item():.4f}, loss_robust: {loss_robust.item():.4f}\")\n"
   ]
  },
  {
   "cell_type": "code",
   "execution_count": 3,
   "metadata": {},
   "outputs": [
    {
     "name": "stdout",
     "output_type": "stream",
     "text": [
      "Saved monotonic_dependence.png\n"
     ]
    },
    {
     "data": {
      "image/png": "[encoded data removed]",
      "text/plain": [
       "<Figure size 432x288 with 1 Axes>"
      ]
     },
     "metadata": {},
     "output_type": "display_data"
    }
   ],
   "source": [
    "# Plot results\n",
    "x_linspace = torch.linspace(1, max_range, 2 * N).view(-1, 1)\n",
    "y_linspace = torch.log(x_linspace)\n",
    "with torch.no_grad():\n",
    "    y = model(x_linspace)\n",
    "    y_robust = monotonic_model(x_linspace)\n",
    "\n",
    "plt.scatter(x_train.numpy(), y_train.numpy(), c='purple', label='train')\n",
    "plt.plot(x_linspace.numpy(), y.numpy(), label=\"model unconstrained\")\n",
    "plt.plot(x_linspace.numpy(), y_robust.numpy(), label=\"model monotonic\")\n",
    "plt.plot(x_linspace, y_linspace, c='gray',\n",
    "         linestyle='--', alpha=0.9, label=\"true function\")\n",
    "plt.legend()\n",
    "figname = \"monotonic_dependence.png\"\n",
    "plt.savefig(figname)\n",
    "print(\"Saved\", figname)\n",
    "plt.show()"
   ]
  },
  {
   "cell_type": "markdown",
   "metadata": {},
   "source": [
    "Now we will make a different toy model with one noisy data point. This will show that the Lipschitz continuous network is more robust against outliers than an unconstrained network because its gradient with respect to the input is bounded between -1 and 1. Additionally, it is more robust against adversarial attacks/data corruption for the same reason."
   ]
  },
  {
   "cell_type": "code",
   "execution_count": 4,
   "metadata": {},
   "outputs": [
    {
     "data": {
      "application/vnd.jupyter.widget-view+json": {
       "model_id": "b00fa8cb18c44853a9832b64c11d9fbd",
       "version_major": 2,
       "version_minor": 0
      },
      "text/plain": [
       "  0%|          | 0/10000 [00:00<?, ?it/s]"
      ]
     },
     "metadata": {},
     "output_type": "display_data"
    },
    {
     "name": "stdout",
     "output_type": "stream",
     "text": [
      "Saved robust_against_noisy_outlier.png\n"
     ]
    },
    {
     "data": {
      "image/png": "[encoded data removed]",
      "text/plain": [
       "<Figure size 432x288 with 1 Axes>"
      ]
     },
     "metadata": {},
     "output_type": "display_data"
    }
   ],
   "source": [
    "# Now we will make a simple function\n",
    "x_train = torch.linspace(-3, 3, N).view(-1, 1)\n",
    "y_train = torch.sin(x_train)\n",
    "y_train[N // 2] += 1\n",
    "\n",
    "model = UnconstrainedModel()\n",
    "robust_model = RobustModel()\n",
    "\n",
    "optim = torch.optim.Adam(model.parameters(), lr=5e-3)\n",
    "optim_robust = torch.optim.Adam(robust_model.parameters(), lr=1e-3)\n",
    "\n",
    "pbar = tqdm(range(EPOCHS))\n",
    "for i in pbar:\n",
    "    y = model(x_train)\n",
    "    y_robust = robust_model(x_train)\n",
    "    loss = loss_func(y, y_train)\n",
    "    loss_robust = loss_func(y_robust, y_train)\n",
    "    loss_robust.backward()\n",
    "    loss.backward()\n",
    "    optim.step()\n",
    "    optim_robust.step()\n",
    "    optim.zero_grad()\n",
    "    optim_robust.zero_grad()\n",
    "    pbar.set_description(\n",
    "        f\"epoch: {i} loss: {loss.item():.4f}, loss_robust: {loss_robust.item():.4f}\")\n",
    "\n",
    "\n",
    "x_linspace = torch.linspace(-3, 3, 2 * N).view(-1, 1)\n",
    "y_linspace = torch.sin(x_linspace)\n",
    "with torch.no_grad():\n",
    "    y = model(x_linspace)\n",
    "    y_robust = robust_model(x_linspace)\n",
    "\n",
    "plt.scatter(x_train.numpy(), y_train.numpy(), c='purple', label='train')\n",
    "plt.scatter(x_train.numpy()[N // 2], y_train.numpy()[N // 2], c=\"r\", label='noisy point')\n",
    "plt.plot(x_linspace.numpy(), y.numpy(), label=\"model non-robust\")\n",
    "plt.plot(x_linspace.numpy(), y_robust.numpy(), label=\"model robust\")\n",
    "plt.plot(x_linspace, y_linspace, c='gray',\n",
    "         linestyle='--', alpha=0.9, label=\"true function\")\n",
    "plt.legend()\n",
    "figname = \"robust_against_noisy_outlier.png\"\n",
    "plt.savefig(figname)\n",
    "print(\"Saved\", figname)\n",
    "plt.show()"
   ]
  },
  {
   "cell_type": "code",
   "execution_count": null,
   "metadata": {},
   "outputs": [],
   "source": []
  },
  {
   "cell_type": "code",
   "execution_count": null,
   "metadata": {},
   "outputs": [],
   "source": []
  }
 ],
 "metadata": {
  "interpreter": {
   "hash": "46f6d0a0c28c669e26779139e5d703c34032bafa11d34b5d166bdddd67688732"
  },
  "kernelspec": {
   "display_name": "Python 3",
   "language": "python",
   "name": "python3"
  },
  "language_info": {
   "codemirror_mode": {
    "name": "ipython",
    "version": 3
   },
   "file_extension": ".py",
   "mimetype": "text/x-python",
   "name": "python",
   "nbconvert_exporter": "python",
   "pygments_lexer": "ipython3",
   "version": "3.8.3"
  }
 },
 "nbformat": 4,
 "nbformat_minor": 2
}
